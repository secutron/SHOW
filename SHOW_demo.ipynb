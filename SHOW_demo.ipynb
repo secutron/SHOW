{
  "cells": [
    {
      "cell_type": "markdown",
      "metadata": {
        "id": "view-in-github",
        "colab_type": "text"
      },
      "source": [
        "<a href=\"https://colab.research.google.com/github/secutron/SHOW/blob/main/SHOW_demo.ipynb\" target=\"_parent\"><img src=\"https://colab.research.google.com/assets/colab-badge.svg\" alt=\"Open In Colab\"/></a>"
      ]
    },
    {
      "cell_type": "code",
      "execution_count": null,
      "metadata": {
        "id": "JQBzL7WTdYKC"
      },
      "outputs": [],
      "source": [
        "# please commment %%capture in the first line of the follwing code block,\n",
        "# , if you want to see the output. \n",
        "!pip install -q gwpy"
      ]
    },
    {
      "cell_type": "code",
      "execution_count": null,
      "metadata": {
        "id": "yk6FWIzLq78J"
      },
      "outputs": [],
      "source": [
        "%%capture\n",
        "!pip install openmim\n",
        "!mim install mmcv-full"
      ]
    },
    {
      "cell_type": "code",
      "execution_count": null,
      "metadata": {
        "id": "7hTKwxWsujLV"
      },
      "outputs": [],
      "source": [
        "%%capture\n",
        "!mkdir -p ~/.insightface/models\n",
        "%cd ~/.insightface/models\n",
        "!wget https://keeper.mpdl.mpg.de/f/2d58b7fed5a74cb5be83/?dl=1 -O antelopev2.zip\n",
        "!wget https://keeper.mpdl.mpg.de/f/8faabd353cfc457fa5c5/?dl=1 -O buffalo_l.zip\n",
        "!mkdir -p antelopev2 && cd antelopev2 && unzip -o ../antelopev2.zip\n",
        "!mkdir -p buffalo_l && cd buffalo_l && unzip -o ../buffalo_l.zip"
      ]
    },
    {
      "cell_type": "code",
      "execution_count": null,
      "metadata": {
        "id": "Vx-Vk7S_dF0H"
      },
      "outputs": [],
      "source": [
        "# !curl -LO https://github.com/open-mmlab/mmcv/archive/refs/tags/v1.6.0.tar.gz\n",
        "# !tar xzf v1.6.0.tar.gz\n",
        "# %cd mmcv-1.6.0\n",
        "# !pip install -r requirements/optional.txt\n",
        "# !MMCV_WITH_OPS=1 pip install -e . -v\n",
        "# %cd /content"
      ]
    },
    {
      "cell_type": "code",
      "execution_count": null,
      "metadata": {
        "id": "6qxwz7jrORsM"
      },
      "outputs": [],
      "source": [
        "%%capture\n",
        "%cd /content\n",
        "!git clone https://github.com/yhw-yhw/SHOW.git\n",
        "!wget https://www.dropbox.com/s/gqdcu51ilo44k3i/models.zip?dl=0 -O models.zip\n",
        "!wget https://www.dropbox.com/s/r14bl9mhvngohla/data.zip?dl=0 -O data.zip\n",
        "!unzip data.zip\n",
        "!7za x models.zip"
      ]
    },
    {
      "cell_type": "code",
      "execution_count": null,
      "metadata": {
        "id": "_Pu-qnq3gBfA"
      },
      "outputs": [],
      "source": [
        "%%capture\n",
        "%cd /content\n",
        "!cd /content/SHOW/modules/MICA && pip install -r requirements.txt\n",
        "!cd /content/SHOW/modules/PIXIE && pip install -r requirements.txt\n",
        "!cd /content/SHOW/modules/PyMAF && pip install -r requirements.txt\n",
        "!cd /content/SHOW/modules/DECA && pip install -r requirements.txt\n",
        "!cd /content/SHOW && pip install -r requirements.txt\n",
        "!pip uninstall -y xtcocotools && pip install xtcocotools --no-binary xtcocotools"
      ]
    },
    {
      "cell_type": "code",
      "execution_count": null,
      "metadata": {
        "id": "Rd6Gxfj3s5FU"
      },
      "outputs": [],
      "source": [
        "%%capture\n",
        "%cd /content\n",
        "!git clone https://github.com/open-mmlab/mmdetection\n",
        "!cd /content/mmdetection && python setup.py install\n",
        "!git clone https://github.com/open-mmlab/mmpose\n",
        "!cd /content/mmpose && python setup.py install"
      ]
    },
    {
      "cell_type": "code",
      "execution_count": null,
      "metadata": {
        "colab": {
          "base_uri": "https://localhost:8080/"
        },
        "id": "44O8Tbne7XtB",
        "outputId": "95681678-fd6c-45cb-ebcd-dd53a50524f1"
      },
      "outputs": [
        {
          "name": "stdout",
          "output_type": "stream",
          "text": [
            "env: mmpose_root=/content/mmpose\n"
          ]
        }
      ],
      "source": [
        "%env mmpose_root = /content/mmpose"
      ]
    },
    {
      "cell_type": "code",
      "execution_count": null,
      "metadata": {
        "id": "QxrrDUw-xZJP"
      },
      "outputs": [],
      "source": [
        "!rm /usr/local/lib/python3.8/dist-packages/torchgeometry/core/conversions.py\n",
        "!cp /content/SHOW/conversions.py /usr/local/lib/python3.8/dist-packages/torchgeometry/core/conversions.py"
      ]
    },
    {
      "cell_type": "code",
      "execution_count": null,
      "metadata": {
        "id": "m6NhsC33shky"
      },
      "outputs": [],
      "source": [
        "%%capture\n",
        "import os\n",
        "import sys\n",
        "import torch\n",
        "\n",
        "gpu_info = !nvidia-smi\n",
        "gpu_info = '\\n'.join(gpu_info)\n",
        "if gpu_info.find('failed') >= 0:\n",
        "    print(\"cpu runtime\")\n",
        "    need_pytorch3d=False\n",
        "    try:\n",
        "        import pytorch3d\n",
        "    except ModuleNotFoundError:\n",
        "        need_pytorch3d=True\n",
        "    if need_pytorch3d:\n",
        "        if torch.__version__.startswith(\"1.13.\") and sys.platform.startswith(\"linux\"):\n",
        "            # We try to install PyTorch3D via a released wheel.\n",
        "            pyt_version_str=torch.__version__.split(\"+\")[0].replace(\".\", \"\")\n",
        "            version_str=\"\".join([\n",
        "                f\"py3{sys.version_info.minor}_cu\",\n",
        "                torch.version.cuda.replace(\".\",\"\"),\n",
        "                f\"_pyt{pyt_version_str}\"\n",
        "            ])\n",
        "            !pip install fvcore iopath\n",
        "            !pip install --no-index --no-cache-dir pytorch3d -f https://dl.fbaipublicfiles.com/pytorch3d/packaging/wheels/{version_str}/download.html\n",
        "        else:\n",
        "            # We try to install PyTorch3D from source.\n",
        "            !curl -LO https://github.com/NVIDIA/cub/archive/1.10.0.tar.gz\n",
        "            !tar xzf 1.10.0.tar.gz\n",
        "            os.environ[\"CUB_HOME\"] = os.getcwd() + \"/cub-1.10.0\"\n",
        "            !pip install 'git+https://github.com/facebookresearch/pytorch3d.git@stable'\n",
        "else: # if gpu runtime\n",
        "    print(\"gpu runtime\")\n",
        "    pyt_version_str=torch.__version__.split(\"+\")[0].replace(\".\", \"\")\n",
        "    version_str=\"\".join([\n",
        "        f\"py3{sys.version_info.minor}_cu\",\n",
        "        torch.version.cuda.replace(\".\",\"\"),\n",
        "        f\"_pyt{pyt_version_str}\"\n",
        "    ])\n",
        "    !pip install fvcore iopath\n",
        "    !pip install --no-index --no-cache-dir pytorch3d -f https://dl.fbaipublicfiles.com/pytorch3d/packaging/wheels/{version_str}/download.html"
      ]
    },
    {
      "cell_type": "code",
      "execution_count": null,
      "metadata": {
        "id": "8Jci8Eqs0Wxq"
      },
      "outputs": [],
      "source": [
        "%%capture\n",
        "import os\n",
        "from os.path import exists, join, basename, splitext\n",
        "\n",
        "git_repo_url = 'https://github.com/CMU-Perceptual-Computing-Lab/openpose.git'\n",
        "project_name = splitext(basename(git_repo_url))[0]\n",
        "if not exists(project_name):\n",
        "  # see: https://github.com/CMU-Perceptual-Computing-Lab/openpose/issues/949\n",
        "  # install new CMake becaue of CUDA10\n",
        "  !wget -q https://cmake.org/files/v3.13/cmake-3.13.0-Linux-x86_64.tar.gz\n",
        "  !tar xfz cmake-3.13.0-Linux-x86_64.tar.gz --strip-components=1 -C /usr/local\n",
        "\n",
        "  # clone openpose\n",
        "  !git clone -q --depth 1 $git_repo_url\n",
        "  # download models\n",
        "  !wget -O /content/openpose/models/hand/pose_iter_102000.caffemodel https://polybox.ethz.ch/index.php/s/Oim76cuqrDVbdxm/download\n",
        "  !wget -O /content/openpose/models/pose/body_25/pose_iter_584000.caffemodel https://polybox.ethz.ch/index.php/s/m5NQAhd7ukVPRoL/download\n",
        "  !wget -O /content/openpose/models/face/pose_iter_116000.caffemodel https://polybox.ethz.ch/index.php/s/cEaF1FTpKjjJZbH/download\n",
        "  !sed -i 's/execute_process(COMMAND git checkout master WORKING_DIRECTORY ${CMAKE_SOURCE_DIR}\\/3rdparty\\/caffe)/execute_process(COMMAND git checkout f019d0dfe86f49d1140961f8c7dec22130c83154 WORKING_DIRECTORY ${CMAKE_SOURCE_DIR}\\/3rdparty\\/caffe)/g' openpose/CMakeLists.txt\n",
        "  # install system dependencies\n",
        "  !apt-get -qq install -y libatlas-base-dev libprotobuf-dev libleveldb-dev libsnappy-dev libhdf5-serial-dev protobuf-compiler libgflags-dev libgoogle-glog-dev liblmdb-dev opencl-headers ocl-icd-opencl-dev libviennacl-dev\n",
        "  # install python dependencies\n",
        "  !pip install -q youtube-dl\n",
        "  # build openpose\n",
        "  !cd openpose && rm -rf build || true && mkdir build && cd build && cmake .. -DUSE_CUDNN=OFF && make -j`nproc`\n"
      ]
    },
    {
      "cell_type": "code",
      "source": [
        "!pip install numpy==1.23.5"
      ],
      "metadata": {
        "id": "ZkUDRaTW1Oer"
      },
      "execution_count": null,
      "outputs": []
    },
    {
      "cell_type": "code",
      "execution_count": null,
      "metadata": {
        "id": "rQHzIiw8biUy"
      },
      "outputs": [],
      "source": [
        "!cd /content/SHOW && python main.py --speaker_name -1 --all_top_dir ./test/demo_video/half.mp4"
      ]
    },
    {
      "cell_type": "code",
      "source": [
        "import shutil\n",
        "\n",
        "shutil.rmtree('/content/SHOW/test/demo_video/deca')\n",
        "shutil.rmtree('/content/SHOW/test/demo_video/deca_vis')\n",
        "shutil.rmtree('/content/SHOW/test/demo_video/fan')\n",
        "shutil.rmtree('/content/SHOW/test/demo_video/image')\n",
        "shutil.rmtree('/content/SHOW/test/demo_video/op')\n",
        "shutil.rmtree('/content/SHOW/test/demo_video/ours')\n",
        "shutil.rmtree('/content/SHOW/test/demo_video/ours_exp')\n",
        "shutil.rmtree('/content/SHOW/test/demo_video/pixie')\n",
        "shutil.rmtree('/content/SHOW/test/demo_video/pixie_vis')"
      ],
      "metadata": {
        "id": "fZSE98ul4oO2"
      },
      "execution_count": null,
      "outputs": []
    },
    {
      "cell_type": "code",
      "source": [
        "# 영상이 긴 경우 gpu out of memory!\n",
        "python main.py --speaker_name -1 --all_top_dir ./test/demo_video/test_short_1.mp4"
      ],
      "metadata": {
        "id": "YoCSZ51a4pj-"
      },
      "execution_count": null,
      "outputs": []
    }
  ],
  "metadata": {
    "accelerator": "GPU",
    "colab": {
      "provenance": [],
      "include_colab_link": true
    },
    "gpuClass": "standard",
    "kernelspec": {
      "display_name": "my_torch39",
      "language": "python",
      "name": "python3"
    },
    "language_info": {
      "name": "python",
      "version": "3.9.12"
    },
    "vscode": {
      "interpreter": {
        "hash": "bf56b89bcada81c2a71943ee007ada908de7a5f929fa45a89c2c78757211229f"
      }
    }
  },
  "nbformat": 4,
  "nbformat_minor": 0
}